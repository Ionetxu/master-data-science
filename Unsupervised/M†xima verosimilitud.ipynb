{
 "cells": [
  {
   "cell_type": "markdown",
   "metadata": {
    "colab_type": "text",
    "id": "lpBn8bqXV5PU",
    "slideshow": {
     "slide_type": "skip"
    }
   },
   "source": [
    "Fórmula de Bayes\n",
    "\n",
    "https://onlinecourses.science.psu.edu/stat414/node/43\n",
    "\n",
    "Verosimilitud\n",
    "\n",
    "- Ejemplo: El problema de las urnas\n",
    "\n",
    "- De urnas a lenguaje\n",
    "\n",
    "- Ajuste de modelos (ver Gaussiana)\n",
    "\n",
    "- Ajuste regresión lineal"
   ]
  },
  {
   "cell_type": "markdown",
   "metadata": {
    "colab_type": "text",
    "id": "FxR3Jnq-V5PY",
    "slideshow": {
     "slide_type": "slide"
    }
   },
   "source": [
    "# Verosimilitud estadística"
   ]
  },
  {
   "cell_type": "markdown",
   "metadata": {
    "colab_type": "text",
    "id": "Muedm8JaV5Pc",
    "slideshow": {
     "slide_type": "subslide"
    }
   },
   "source": [
    "## 1. Introducción al concepto de verosimilitud\n",
    "\n",
    "### Definición. ¿Qué és la verositimilitud estadística?\n",
    "\n",
    "* La verosimilitud es una función matemática cuya variable son los parámetros de un modelo estadístico. \n",
    "\n",
    "* En su expresión más simple, decimos que la verosimilitud (en inglés, *likelihood*) de que un modelo con parámetros $\\theta$ haya generado un dato $x$ es: \n",
    "\n",
    "\\begin{equation}\n",
    "\\mathcal{L}(\\theta) = p(x|\\theta)\n",
    "\\end{equation}\n",
    "\n"
   ]
  },
  {
   "cell_type": "markdown",
   "metadata": {
    "colab_type": "text",
    "id": "LEtXY-a3V5Pi",
    "slideshow": {
     "slide_type": "fragment"
    }
   },
   "source": [
    "**Pregunta**. ¿Pero esto no era la \"densidad de probabilidad\"? \n",
    "\n",
    "**Aclaración**. \n",
    "\n",
    "* Decimos que $p(x|\\theta)$ es una función de masa de probabilidad (para variables discretas) o densidad de probabilidad (para variables contínuas) cuando los parámetros del modelo $\\theta$ están fijados y nos interesa realizar predicciones. \n",
    "\n",
    "* Si fijamos el dato $x$, y lo que nos interesa es estudiar la variación de $\\theta$, entonces hablamos de verosimilitud. \n",
    "\n",
    "¿Por qué querríamos hacer esto? Ejemplos: \n",
    "\n",
    "* Dados unos datos, encontrar el modelo que mejor ajusta su distribución (el modelo más *verosímil*, de ahí la palabra). \n",
    "\n",
    "* Comparar dos o más modelos y determinar cuál es más plausible dados unos datos. "
   ]
  },
  {
   "cell_type": "markdown",
   "metadata": {
    "colab_type": "text",
    "id": "t3HwxLJKV5Pl",
    "slideshow": {
     "slide_type": "subslide"
    }
   },
   "source": [
    "### Verosimilitud de una muestra\n",
    "\n",
    "La verosimilitud de un conjunto de datos $\\mathcal{D} = {x_1, \\ldots x_N}$ es\n",
    "\n",
    "\\begin{equation}\n",
    "\\mathcal{L}(\\theta) = p(x_1|\\theta)\\times p(x_2|\\theta)\\times\\ldots\\times p(x_N|\\theta) = \\prod_{i=1}^N p(x_i|\\theta).\n",
    "\\end{equation}\n",
    "\n",
    "Nota. Explicar en pizarra la notación de $\\theta$. \n",
    "\n"
   ]
  },
  {
   "cell_type": "markdown",
   "metadata": {
    "colab_type": "text",
    "id": "zu2FVbc3V5Po",
    "slideshow": {
     "slide_type": "slide"
    }
   },
   "source": [
    "## 2. Ejemplo de verosimilitud de una variable discreta. \n",
    "\n",
    "### Problema de las urnas\n",
    "\n",
    "* Tenemos 4 urnas\n",
    "* Cada urna tiene 4 bolas\n",
    "* La primera tiene una bola blanca, la segunda dos bolas de color blanco, la tercera tres y la cuarta, cuatro. El resto de bolas es de color negro (excepto la cuarta donde ya vemos que todas son blancas). \n",
    "\n",
    "Las urnas están detrás de una cortina. Alguien escoge una urna y empieza a sacar bolas (cada vez que se extrae una bola, se vuelve a introducir en la urna). Nosotros no sabemos de qué urna las está sacando. \n",
    "\n",
    "Imaginemos que vemos esta secuencia de bolas: \n",
    "\n",
    "\\begin{equation}\n",
    "{\\Large \\bullet\\quad\\circ\\quad\\circ\\quad\\bullet\\quad\\bullet\\quad\\bullet\\quad\\bullet\\quad\\circ}\n",
    "\\end{equation}\n",
    "\n",
    "Podemos ver cada extracción de cada i-ésima bola como una variable aleatoria (por ejemplo, $x_i$ = 1 si la bla es blanco, y si no $x_i$ = 0). \n",
    "\n",
    "Y la urna (que no conocemos) como 4 modelos diferentes (con diferentes parámetros). \n",
    "\n",
    "**Ejercicio.** Calcular la verosimilitud de cada urna para la secuencia de bolas extraídas. "
   ]
  },
  {
   "cell_type": "markdown",
   "metadata": {
    "colab_type": "text",
    "id": "pY-n-5zRV5Pr",
    "slideshow": {
     "slide_type": "subslide"
    }
   },
   "source": [
    "(Resolvemos en pizarra)"
   ]
  },
  {
   "cell_type": "markdown",
   "metadata": {
    "colab_type": "text",
    "id": "hKznLBbBV5Pu",
    "slideshow": {
     "slide_type": "subslide"
    }
   },
   "source": [
    "### Implementación\n",
    "\n",
    "* Una urna se puede ver como un modelo con unos determinados parámetros. "
   ]
  },
  {
   "cell_type": "markdown",
   "metadata": {
    "colab_type": "text",
    "id": "W8mfi2wRV5Py",
    "slideshow": {
     "slide_type": "fragment"
    }
   },
   "source": [
    "* Específicamente, un modelo que puede dar 1 con una cierta probabilidad $p$, y 0 con probabilidad $1-p$, se llama *distribución de Bernouilli*.\n",
    "\n",
    "* Cada extracción de la urna se puede modelizar con una distribución de Bernouilli con un $p$ diferente. "
   ]
  },
  {
   "cell_type": "markdown",
   "metadata": {
    "colab_type": "text",
    "id": "kOKufdStV5P1",
    "slideshow": {
     "slide_type": "subslide"
    }
   },
   "source": [
    "**Ejercicio.** Define una función de python que tome una secuencia de elementos bool y calcule la verosimilitud de una urna. "
   ]
  },
  {
   "cell_type": "code",
   "execution_count": 1,
   "metadata": {
    "colab": {
     "autoexec": {
      "startup": false,
      "wait_interval": 0
     }
    },
    "colab_type": "code",
    "id": "RmCTstL3V5P5",
    "slideshow": {
     "slide_type": "fragment"
    }
   },
   "outputs": [],
   "source": [
    "def likelihood(seq, p_urn):\n",
    "    \n",
    "    product = 1\n",
    "    \n",
    "    for ball in seq: \n",
    "        if ball == True:\n",
    "            product *= p_urn\n",
    "        else:\n",
    "            product *= 1 - p_urn\n",
    "            \n",
    "    return product"
   ]
  },
  {
   "cell_type": "code",
   "execution_count": 2,
   "metadata": {
    "colab": {
     "autoexec": {
      "startup": false,
      "wait_interval": 0
     }
    },
    "colab_type": "code",
    "id": "P7AEzYcPV5QC",
    "outputId": "2e728123-173c-44c5-8431-e80e54578efc",
    "slideshow": {
     "slide_type": "fragment"
    }
   },
   "outputs": [
    {
     "data": {
      "text/plain": [
       "0.002780914306640625"
      ]
     },
     "execution_count": 2,
     "metadata": {},
     "output_type": "execute_result"
    }
   ],
   "source": [
    "likelihood([False, True, True, False, False, False, False, True, False], 0.25)"
   ]
  },
  {
   "cell_type": "markdown",
   "metadata": {
    "colab_type": "text",
    "id": "1CRdcpNwV5QN",
    "slideshow": {
     "slide_type": "subslide"
    }
   },
   "source": [
    "### Mismo código usando scipy.stats"
   ]
  },
  {
   "cell_type": "code",
   "execution_count": 3,
   "metadata": {
    "colab": {
     "autoexec": {
      "startup": false,
      "wait_interval": 0
     }
    },
    "colab_type": "code",
    "id": "TDGb5jboV5QQ",
    "slideshow": {
     "slide_type": "fragment"
    }
   },
   "outputs": [],
   "source": [
    "from scipy.stats import bernoulli\n",
    "\n",
    "def likelihood_stats(seq, p):\n",
    "    \n",
    "    product = 1.0\n",
    "    distrib = bernoulli(p)\n",
    "    \n",
    "    for s in seq:\n",
    "        product *= distrib.pmf(s)\n",
    "        \n",
    "    return product\n",
    "    "
   ]
  },
  {
   "cell_type": "code",
   "execution_count": 4,
   "metadata": {
    "colab": {
     "autoexec": {
      "startup": false,
      "wait_interval": 0
     }
    },
    "colab_type": "code",
    "id": "Pikzw4O8V5QZ",
    "outputId": "3ab53c4e-c1f5-4adf-f0f0-97b603d83b48",
    "slideshow": {
     "slide_type": "fragment"
    }
   },
   "outputs": [
    {
     "data": {
      "text/plain": [
       "0.002780914306640625"
      ]
     },
     "execution_count": 4,
     "metadata": {},
     "output_type": "execute_result"
    }
   ],
   "source": [
    "likelihood_stats([False, True, True, False, False, False, False, True, False], 0.25)"
   ]
  },
  {
   "cell_type": "markdown",
   "metadata": {
    "colab_type": "text",
    "id": "wlYWwDiWV5Qm",
    "slideshow": {
     "slide_type": "subslide"
    }
   },
   "source": [
    "### Más compacto (usando vectorización)"
   ]
  },
  {
   "cell_type": "code",
   "execution_count": 6,
   "metadata": {
    "colab": {
     "autoexec": {
      "startup": false,
      "wait_interval": 0
     }
    },
    "colab_type": "code",
    "id": "7vCv7KkXV5Qo",
    "outputId": "65f90ec1-dbe7-4d75-cf9c-8ac4a2ed249e",
    "slideshow": {
     "slide_type": "fragment"
    }
   },
   "outputs": [
    {
     "data": {
      "text/plain": [
       "0.002780914306640625"
      ]
     },
     "execution_count": 6,
     "metadata": {},
     "output_type": "execute_result"
    }
   ],
   "source": [
    "import numpy as np\n",
    "sequence = [False, True, True, False, False, False, False, True, False]\n",
    "np.prod(bernoulli.pmf(sequence, 0.25))"
   ]
  },
  {
   "cell_type": "markdown",
   "metadata": {
    "colab_type": "text",
    "id": "1yjLIUBgV5Q0",
    "slideshow": {
     "slide_type": "fragment"
    }
   },
   "source": [
    "Observemos: \n",
    "\n",
    "* Cuando mayor sea este valor para una cierta urna, más creíble es que la secuencia ha sido generada por esa urna. \n",
    "\n",
    "* (Probar a dibujar la función de verosimilitud). \n",
    "\n",
    "* La verosimilitud no es una probabilidad! (Pero ahora veremos cómo se relaciona con ésta). "
   ]
  },
  {
   "cell_type": "markdown",
   "metadata": {
    "colab_type": "text",
    "id": "G1LXLvRHV5Q5",
    "slideshow": {
     "slide_type": "subslide"
    }
   },
   "source": [
    "### Función de verosimilitud"
   ]
  },
  {
   "cell_type": "code",
   "execution_count": 8,
   "metadata": {
    "colab": {
     "autoexec": {
      "startup": false,
      "wait_interval": 0
     }
    },
    "colab_type": "code",
    "id": "WrP3GmqhV5Q-",
    "outputId": "27cefb70-20a9-40bc-ff7d-5f583bacfff8",
    "slideshow": {
     "slide_type": "fragment"
    }
   },
   "outputs": [
    {
     "data": {
      "text/plain": [
       "Text(0,0.5,'$\\\\mathcal{L}(p)$')"
      ]
     },
     "execution_count": 8,
     "metadata": {},
     "output_type": "execute_result"
    },
    {
     "data": {
      "image/png": "[encoded data removed]",
      "text/plain": [
       "<matplotlib.figure.Figure at 0x1692e968898>"
      ]
     },
     "metadata": {},
     "output_type": "display_data"
    }
   ],
   "source": [
    "%matplotlib inline\n",
    "import matplotlib.pyplot as plt\n",
    "like = lambda p: np.prod(bernoulli.pmf([False, True, True, False, False, False, False, True, False], p)) \n",
    "\n",
    "x  = np.arange(0, 1, 0.01)\n",
    "ls = [like(xi) for xi in x] \n",
    "plt.plot(x, ls)\n",
    "plt.xlabel(\"p parameter\")\n",
    "plt.ylabel(\"$\\mathcal{L}(p)$\")"
   ]
  },
  {
   "cell_type": "markdown",
   "metadata": {
    "colab_type": "text",
    "id": "0HRuQwKyV5RK",
    "slideshow": {
     "slide_type": "subslide"
    }
   },
   "source": [
    "**Ejercicio.** Ahora, calcular la *probabilidad* (no verosimilitud) de que la urna escogida haya sido la 1, 2, 3 o 4. "
   ]
  },
  {
   "cell_type": "markdown",
   "metadata": {
    "colab_type": "text",
    "id": "DdnZ4pztV5RL",
    "slideshow": {
     "slide_type": "slide"
    }
   },
   "source": [
    "## 3. Caso práctico: Detección de lenguaje por frecuencias\n",
    "\n",
    "* http://www.ravi.io/language-word-lengths\n",
    "\n",
    "* https://github.com/akleemans/letter-frequency"
   ]
  },
  {
   "cell_type": "code",
   "execution_count": 11,
   "metadata": {
    "colab": {
     "autoexec": {
      "startup": false,
      "wait_interval": 0
     }
    },
    "colab_type": "code",
    "id": "eddnv-sDV5RO",
    "outputId": "5215ad76-8e99-4eaf-9167-e8293f06c0a9",
    "slideshow": {
     "slide_type": "fragment"
    }
   },
   "outputs": [
    {
     "data": {
      "text/html": [
       "<div>\n",
       "<style scoped>\n",
       "    .dataframe tbody tr th:only-of-type {\n",
       "        vertical-align: middle;\n",
       "    }\n",
       "\n",
       "    .dataframe tbody tr th {\n",
       "        vertical-align: top;\n",
       "    }\n",
       "\n",
       "    .dataframe thead th {\n",
       "        text-align: right;\n",
       "    }\n",
       "</style>\n",
       "<table border=\"1\" class=\"dataframe\">\n",
       "  <thead>\n",
       "    <tr style=\"text-align: right;\">\n",
       "      <th></th>\n",
       "      <th>Letter</th>\n",
       "      <th>Spanish</th>\n",
       "      <th>French</th>\n",
       "    </tr>\n",
       "  </thead>\n",
       "  <tbody>\n",
       "    <tr>\n",
       "      <th>0</th>\n",
       "      <td>a</td>\n",
       "      <td>11.525%</td>\n",
       "      <td>7.636%</td>\n",
       "    </tr>\n",
       "    <tr>\n",
       "      <th>1</th>\n",
       "      <td>b</td>\n",
       "      <td>2.215%</td>\n",
       "      <td>0.901%</td>\n",
       "    </tr>\n",
       "    <tr>\n",
       "      <th>2</th>\n",
       "      <td>c</td>\n",
       "      <td>4.019%</td>\n",
       "      <td>3.260%</td>\n",
       "    </tr>\n",
       "    <tr>\n",
       "      <th>3</th>\n",
       "      <td>d</td>\n",
       "      <td>5.010%</td>\n",
       "      <td>3.669%</td>\n",
       "    </tr>\n",
       "    <tr>\n",
       "      <th>4</th>\n",
       "      <td>e</td>\n",
       "      <td>12.181%</td>\n",
       "      <td>14.715%</td>\n",
       "    </tr>\n",
       "  </tbody>\n",
       "</table>\n",
       "</div>"
      ],
      "text/plain": [
       "  Letter  Spanish   French\n",
       "0      a  11.525%   7.636%\n",
       "1      b   2.215%   0.901%\n",
       "2      c   4.019%   3.260%\n",
       "3      d   5.010%   3.669%\n",
       "4      e  12.181%  14.715%"
      ]
     },
     "execution_count": 11,
     "metadata": {},
     "output_type": "execute_result"
    }
   ],
   "source": [
    "import pandas as pd\n",
    "freqs = pd.read_csv(\"letter_frequency.csv\", sep=\";\")[['Letter', 'Spanish', 'French']]\n",
    "freqs.head()"
   ]
  },
  {
   "cell_type": "code",
   "execution_count": 12,
   "metadata": {
    "colab": {
     "autoexec": {
      "startup": false,
      "wait_interval": 0
     }
    },
    "colab_type": "code",
    "id": "aFxmGwQzV5Rc",
    "outputId": "9cad9cd0-69c2-4f23-ffe6-77f5494ee7a7",
    "slideshow": {
     "slide_type": "subslide"
    }
   },
   "outputs": [
    {
     "data": {
      "text/html": [
       "<div>\n",
       "<style scoped>\n",
       "    .dataframe tbody tr th:only-of-type {\n",
       "        vertical-align: middle;\n",
       "    }\n",
       "\n",
       "    .dataframe tbody tr th {\n",
       "        vertical-align: top;\n",
       "    }\n",
       "\n",
       "    .dataframe thead th {\n",
       "        text-align: right;\n",
       "    }\n",
       "</style>\n",
       "<table border=\"1\" class=\"dataframe\">\n",
       "  <thead>\n",
       "    <tr style=\"text-align: right;\">\n",
       "      <th></th>\n",
       "      <th>Letter</th>\n",
       "      <th>Spanish</th>\n",
       "      <th>French</th>\n",
       "    </tr>\n",
       "  </thead>\n",
       "  <tbody>\n",
       "    <tr>\n",
       "      <th>0</th>\n",
       "      <td>a</td>\n",
       "      <td>0.11525</td>\n",
       "      <td>0.07636</td>\n",
       "    </tr>\n",
       "    <tr>\n",
       "      <th>1</th>\n",
       "      <td>b</td>\n",
       "      <td>0.02215</td>\n",
       "      <td>0.00901</td>\n",
       "    </tr>\n",
       "    <tr>\n",
       "      <th>2</th>\n",
       "      <td>c</td>\n",
       "      <td>0.04019</td>\n",
       "      <td>0.03260</td>\n",
       "    </tr>\n",
       "    <tr>\n",
       "      <th>3</th>\n",
       "      <td>d</td>\n",
       "      <td>0.05010</td>\n",
       "      <td>0.03669</td>\n",
       "    </tr>\n",
       "    <tr>\n",
       "      <th>4</th>\n",
       "      <td>e</td>\n",
       "      <td>0.12181</td>\n",
       "      <td>0.14715</td>\n",
       "    </tr>\n",
       "  </tbody>\n",
       "</table>\n",
       "</div>"
      ],
      "text/plain": [
       "  Letter  Spanish   French\n",
       "0      a  0.11525  0.07636\n",
       "1      b  0.02215  0.00901\n",
       "2      c  0.04019  0.03260\n",
       "3      d  0.05010  0.03669\n",
       "4      e  0.12181  0.14715"
      ]
     },
     "execution_count": 12,
     "metadata": {},
     "output_type": "execute_result"
    }
   ],
   "source": [
    "freqs['Spanish'] = freqs['Spanish'].str.rstrip('%').astype('float') / 100.0\n",
    "freqs['French'] = freqs['French'].str.rstrip('%').astype('float') / 100.0\n",
    "freqs.head()"
   ]
  },
  {
   "cell_type": "markdown",
   "metadata": {
    "colab_type": "text",
    "id": "7WKSWi1RV5Rn",
    "slideshow": {
     "slide_type": "subslide"
    }
   },
   "source": [
    "**Ejercicio.** Verosimilitud de que una frase sea español o francés."
   ]
  },
  {
   "cell_type": "code",
   "execution_count": 13,
   "metadata": {
    "colab": {
     "autoexec": {
      "startup": false,
      "wait_interval": 0
     }
    },
    "colab_type": "code",
    "id": "SRYxFI5DV5Rx",
    "slideshow": {
     "slide_type": "fragment"
    }
   },
   "outputs": [],
   "source": [
    "def like_lang(frase, lang):\n",
    "    \n",
    "    l = 1.0\n",
    "    \n",
    "    for c in frase.lower().replace(\" \", \"\"): \n",
    "        pos = np.where(freqs['Letter'] == c)[0]\n",
    "        l *= freqs.loc[pos, lang].values[0]\n",
    "        \n",
    "    return l\n",
    "        "
   ]
  },
  {
   "cell_type": "code",
   "execution_count": 14,
   "metadata": {
    "colab": {
     "autoexec": {
      "startup": false,
      "wait_interval": 0
     }
    },
    "colab_type": "code",
    "id": "swmI-jE5V5SA",
    "outputId": "5e613353-0a93-4fc0-9a72-7c8a6bded21c",
    "slideshow": {
     "slide_type": "fragment"
    }
   },
   "outputs": [
    {
     "data": {
      "text/plain": [
       "0.0"
      ]
     },
     "execution_count": 14,
     "metadata": {},
     "output_type": "execute_result"
    }
   ],
   "source": [
    "like_lang(\"jose antonio rodríguez serrano\", 'French')"
   ]
  },
  {
   "cell_type": "markdown",
   "metadata": {
    "colab_type": "text",
    "id": "qDaUMuQpV5Sb",
    "slideshow": {
     "slide_type": "subslide"
    }
   },
   "source": [
    "### Corrección con logaritmos\n",
    "\n",
    "* El producto de una secuencia probabilidas es sencillo que rápidamente tienda a 0 conforme  la secuencia aumenta de longitud. \n",
    "\n",
    "* En casos el valor puede llega por debajo de la precisión de la variable que se esté usando (en este caso float64). \n",
    "\n",
    "* Para estos casos, una técnica habitual es, en lugar de multiplicar probabilidades, *sumar logaritmos de probabilidades (detallar en pizarra). "
   ]
  },
  {
   "cell_type": "code",
   "execution_count": 15,
   "metadata": {
    "colab": {
     "autoexec": {
      "startup": false,
      "wait_interval": 0
     }
    },
    "colab_type": "code",
    "id": "uoIw3COGV5Sf",
    "slideshow": {
     "slide_type": "subslide"
    }
   },
   "outputs": [],
   "source": [
    "def loglike_lang(frase, lang):\n",
    "    \n",
    "    l = 0.0\n",
    "    \n",
    "    for c in frase.lower().replace(\" \", \"\"): \n",
    "        pos = np.where(freqs['Letter'] == c)[0]\n",
    "        l += np.log(freqs.loc[pos, lang].values[0])\n",
    "        \n",
    "    return np.exp(l)"
   ]
  },
  {
   "cell_type": "code",
   "execution_count": 16,
   "metadata": {
    "colab": {
     "autoexec": {
      "startup": false,
      "wait_interval": 0
     }
    },
    "colab_type": "code",
    "id": "XNE-3A8DV5Sv",
    "outputId": "e5a9b862-4e1e-454a-a428-0728e10ef906",
    "slideshow": {
     "slide_type": "fragment"
    }
   },
   "outputs": [
    {
     "name": "stderr",
     "output_type": "stream",
     "text": [
      "C:\\Users\\Los3\\Anaconda3\\lib\\site-packages\\ipykernel_launcher.py:7: RuntimeWarning: divide by zero encountered in log\n",
      "  import sys\n"
     ]
    },
    {
     "data": {
      "text/plain": [
       "0.0"
      ]
     },
     "execution_count": 16,
     "metadata": {},
     "output_type": "execute_result"
    }
   ],
   "source": [
    "loglike_lang('hola qué tal estás y tú también y esto y lo otro', 'French')"
   ]
  },
  {
   "cell_type": "markdown",
   "metadata": {
    "colab_type": "text",
    "id": "D-YWbmXiV5S5",
    "slideshow": {
     "slide_type": "subslide"
    }
   },
   "source": [
    "(Explicar clasificador Naive Bayes en pizarra)\n",
    "\n",
    "Material sobre Naïve Bayes: \n",
    "\n",
    "* [Documentación de `sklearn`](http://scikit-learn.org/stable/modules/naive_bayes.html)\n",
    "\n",
    "* [Tutorial Naive Bayes del libro \"Data Science in Python\"](https://jakevdp.github.io/PythonDataScienceHandbook/05.05-naive-bayes.html)"
   ]
  },
  {
   "cell_type": "markdown",
   "metadata": {
    "colab_type": "text",
    "id": "3dC1YAPNV5S9",
    "slideshow": {
     "slide_type": "slide"
    }
   },
   "source": [
    "## 4. Verosimilitud en Variables Contínuas"
   ]
  },
  {
   "cell_type": "code",
   "execution_count": 17,
   "metadata": {
    "colab": {
     "autoexec": {
      "startup": false,
      "wait_interval": 0
     }
    },
    "colab_type": "code",
    "id": "abhx7QlJV5S_",
    "slideshow": {
     "slide_type": "skip"
    }
   },
   "outputs": [],
   "source": [
    "# Generamos un dataset\n",
    "\n",
    "import numpy as np\n",
    "\n",
    "N = 1000\n",
    "mu = 3.\n",
    "sigma = 1.5\n",
    "\n",
    "y = np.random.normal(size=(1000), loc=138, scale=5)"
   ]
  },
  {
   "cell_type": "code",
   "execution_count": 18,
   "metadata": {
    "colab": {
     "autoexec": {
      "startup": false,
      "wait_interval": 0
     }
    },
    "colab_type": "code",
    "id": "kgYV1g-AV5TL",
    "outputId": "012e7975-440a-47d1-ef80-305ae4a8fef7",
    "slideshow": {
     "slide_type": "fragment"
    }
   },
   "outputs": [
    {
     "data": {
      "text/plain": [
       "array([137.02529382, 140.82327564, 133.36570362, 145.33332121,\n",
       "       133.79582504, 140.60226384, 134.3869452 , 142.39872392,\n",
       "       137.59584275, 130.87164348, 141.36911305, 142.54357852,\n",
       "       135.75776198, 136.46941717, 136.44014654, 126.20885097,\n",
       "       143.73277164, 135.21005958, 143.94633804, 135.84244273])"
      ]
     },
     "execution_count": 18,
     "metadata": {},
     "output_type": "execute_result"
    }
   ],
   "source": [
    "y[:20]"
   ]
  },
  {
   "cell_type": "code",
   "execution_count": 19,
   "metadata": {
    "colab": {
     "autoexec": {
      "startup": false,
      "wait_interval": 0
     }
    },
    "colab_type": "code",
    "id": "TL6_0rGIV5TU",
    "outputId": "008ae8df-2550-4b6a-c6dd-e7cec6c165aa",
    "slideshow": {
     "slide_type": "fragment"
    }
   },
   "outputs": [
    {
     "data": {
      "image/png": "[encoded data removed]",
      "text/plain": [
       "<matplotlib.figure.Figure at 0x1692df84e10>"
      ]
     },
     "metadata": {},
     "output_type": "display_data"
    }
   ],
   "source": [
    "%matplotlib inline\n",
    "import matplotlib.pyplot as plt\n",
    "_ = plt.hist(y, 30, normed=True)"
   ]
  },
  {
   "cell_type": "code",
   "execution_count": 20,
   "metadata": {
    "colab": {
     "autoexec": {
      "startup": false,
      "wait_interval": 0
     }
    },
    "colab_type": "code",
    "id": "-UN2P_w4V5Tc",
    "outputId": "a5ac59d5-17c6-40d4-9310-7f3f840d6feb",
    "slideshow": {
     "slide_type": "subslide"
    }
   },
   "outputs": [
    {
     "data": {
      "text/plain": [
       "[<matplotlib.lines.Line2D at 0x1693084a550>]"
      ]
     },
     "execution_count": 20,
     "metadata": {},
     "output_type": "execute_result"
    },
    {
     "data": {
      "image/png": "[encoded data removed]",
      "text/plain": [
       "<matplotlib.figure.Figure at 0x169307d4a90>"
      ]
     },
     "metadata": {},
     "output_type": "display_data"
    }
   ],
   "source": [
    "from scipy.stats import norm\n",
    "_ = plt.hist(y, 30, normed=True)\n",
    "\n",
    "gaussian = norm(loc=140, scale=7)\n",
    "x = np.linspace(gaussian.ppf(.001), gaussian.ppf(.999), 100)\n",
    "\n",
    "plt.plot(x, gaussian.pdf(x), 'r-', lw=5, alpha=0.6, label='norm pdf')\n"
   ]
  },
  {
   "cell_type": "markdown",
   "metadata": {
    "colab_type": "text",
    "id": "RjQ_6zNWV5Tu",
    "slideshow": {
     "slide_type": "fragment"
    }
   },
   "source": [
    "Verosimilitud de modelizar $y$ con una distribución Gaussiana $p(y|\\theta) = p(y|\\mu, \\sigma)$. \n",
    "\n",
    "Aquí recordemos que la función de verosimilitud sería\n",
    "\n",
    "\\begin{equation}\n",
    "\\mathcal{L}(\\mu, \\sigma) = p(y_1|\\mu, \\sigma)\\times p(y_2|\\mu, \\sigma) \\times \\ldots \\times p(y_n|\\mu, \\sigma) = \\prod_{i=1}^N p(y_i|\\mu, \\sigma) \n",
    "\\end{equation}\n"
   ]
  },
  {
   "cell_type": "markdown",
   "metadata": {
    "colab_type": "text",
    "id": "pCHPfPKmV5Tw",
    "slideshow": {
     "slide_type": "subslide"
    }
   },
   "source": [
    "### Implementación \"ingenua\""
   ]
  },
  {
   "cell_type": "code",
   "execution_count": 21,
   "metadata": {
    "colab": {
     "autoexec": {
      "startup": false,
      "wait_interval": 0
     }
    },
    "colab_type": "code",
    "id": "qD_tKr6GV5Tx",
    "slideshow": {
     "slide_type": "fragment"
    }
   },
   "outputs": [],
   "source": [
    "def likelihood_naive(loc, scale, data):\n",
    "    \n",
    "    likelihood = 1.0\n",
    "    for y in data:\n",
    "        likelihood *= norm.pdf(y, loc, scale)\n",
    "        \n",
    "    return likelihood"
   ]
  },
  {
   "cell_type": "code",
   "execution_count": 22,
   "metadata": {
    "colab": {
     "autoexec": {
      "startup": false,
      "wait_interval": 0
     }
    },
    "colab_type": "code",
    "id": "9iGuJg_yV5T2",
    "outputId": "457b5620-4c8e-47a0-8429-efeb05ae9ac9",
    "slideshow": {
     "slide_type": "fragment"
    }
   },
   "outputs": [
    {
     "data": {
      "text/plain": [
       "7.450617386960105e-14"
      ]
     },
     "execution_count": 22,
     "metadata": {},
     "output_type": "execute_result"
    }
   ],
   "source": [
    "likelihood_naive(140, 5, y[:10])"
   ]
  },
  {
   "cell_type": "markdown",
   "metadata": {
    "colab_type": "text",
    "id": "htT4NsmPV5T9",
    "slideshow": {
     "slide_type": "subslide"
    }
   },
   "source": [
    "Volvemos a necesitar el truco del logaritmo. \n",
    "\n",
    "\\begin{equation}\n",
    "\\mathcal{L}(\\mu, \\sigma) = p(y_1|\\mu, \\sigma)\\times p(y_2|\\mu, \\sigma) \\times \\ldots \\times p(y_n|\\mu, \\sigma) = \\prod_{i=1}^N p(y_i|\\mu, \\sigma) \n",
    "\\end{equation}\n",
    "\n",
    "\\begin{equation}\n",
    "\\log \\mathcal{L}(\\mu, \\sigma) = \\log p(y_1|\\mu, \\sigma) + \\log p(y_2|\\mu, \\sigma) + \\ldots + \\log p(y_n|\\mu, \\sigma) = \\sum_{i=1}^N \\log p(y_i|\\mu, \\sigma) \n",
    "\\end{equation}\n"
   ]
  },
  {
   "cell_type": "code",
   "execution_count": 23,
   "metadata": {
    "colab": {
     "autoexec": {
      "startup": false,
      "wait_interval": 0
     }
    },
    "colab_type": "code",
    "id": "KSN1qHs_V5T-",
    "slideshow": {
     "slide_type": "subslide"
    }
   },
   "outputs": [],
   "source": [
    "def log_likelihood(loc, scale, data):\n",
    "    \n",
    "    log_likelihood = 0.0\n",
    "    for y in data:\n",
    "        log_likelihood += np.log(norm.pdf(y, loc, scale))\n",
    "        \n",
    "    return log_likelihood"
   ]
  },
  {
   "cell_type": "code",
   "execution_count": 24,
   "metadata": {
    "colab": {
     "autoexec": {
      "startup": false,
      "wait_interval": 0
     }
    },
    "colab_type": "code",
    "id": "ATQEanBJV5UE",
    "outputId": "fe8a96a1-2937-450f-f013-1231308dd2a3",
    "slideshow": {
     "slide_type": "fragment"
    }
   },
   "outputs": [
    {
     "data": {
      "text/plain": [
       "-5998.633130166347"
      ]
     },
     "execution_count": 24,
     "metadata": {},
     "output_type": "execute_result"
    }
   ],
   "source": [
    "log_likelihood(150, 5, y)"
   ]
  },
  {
   "cell_type": "code",
   "execution_count": 25,
   "metadata": {
    "colab": {
     "autoexec": {
      "startup": false,
      "wait_interval": 0
     }
    },
    "colab_type": "code",
    "id": "4KjxHPC5V5UO",
    "outputId": "8c829506-cedf-4a03-a4c8-c647d6d101e4",
    "slideshow": {
     "slide_type": "fragment"
    }
   },
   "outputs": [
    {
     "data": {
      "text/plain": [
       "-571073.9295736345"
      ]
     },
     "execution_count": 25,
     "metadata": {},
     "output_type": "execute_result"
    }
   ],
   "source": [
    "log_likelihood(3, 4, y)"
   ]
  },
  {
   "cell_type": "markdown",
   "metadata": {
    "colab_type": "text",
    "id": "o_tQJKsLV5UV",
    "slideshow": {
     "slide_type": "subslide"
    }
   },
   "source": [
    "Notas\n",
    "\n",
    "* Comparar por verosimilitud es equivalente a comparar por el logaritmo (porque la función logaritmo es monótona). \n",
    "\n",
    "* Para una distribucion Gaussiana $p(y|\\mu, \\sigma)$, los valores que dan máxima verosimilitud son: \n",
    "\n",
    "\\begin{equation}\n",
    "\\mu = \\frac{1}{N}(y_1 + \\ldots + y_N) = \\frac{1}{N}\\sum_{i=1}^N y_i\n",
    "\\end{equation}\n",
    "\n",
    "\\begin{equation}\n",
    "\\sigma = \\sqrt{\\frac{1}{N-1} \\sum_{i=1}^N (y_i - \\mu)^2}\n",
    "\\end{equation}\n",
    "\n",
    "(Desarrollar en pizarra)"
   ]
  },
  {
   "cell_type": "markdown",
   "metadata": {
    "colab_type": "text",
    "id": "KaCylT7AV5UW",
    "slideshow": {
     "slide_type": "subslide"
    }
   },
   "source": [
    "### Interactive visualization"
   ]
  },
  {
   "cell_type": "code",
   "execution_count": 26,
   "metadata": {
    "colab": {
     "autoexec": {
      "startup": false,
      "wait_interval": 0
     }
    },
    "colab_type": "code",
    "id": "UIiyTo5LV5UY",
    "outputId": "889771c3-0153-4955-ca30-e025af28ee8f",
    "slideshow": {
     "slide_type": "fragment"
    }
   },
   "outputs": [
    {
     "data": {
      "application/vnd.jupyter.widget-view+json": {
       "model_id": "4fe9407ced9d4c129dfd57b514475e94",
       "version_major": 2,
       "version_minor": 0
      },
      "text/html": [
       "<p>Failed to display Jupyter Widget of type <code>interactive</code>.</p>\n",
       "<p>\n",
       "  If you're reading this message in the Jupyter Notebook or JupyterLab Notebook, it may mean\n",
       "  that the widgets JavaScript is still loading. If this message persists, it\n",
       "  likely means that the widgets JavaScript library is either not installed or\n",
       "  not enabled. See the <a href=\"https://ipywidgets.readthedocs.io/en/stable/user_install.html\">Jupyter\n",
       "  Widgets Documentation</a> for setup instructions.\n",
       "</p>\n",
       "<p>\n",
       "  If you're reading this message in another frontend (for example, a static\n",
       "  rendering on GitHub or <a href=\"https://nbviewer.jupyter.org/\">NBViewer</a>),\n",
       "  it may mean that your frontend doesn't currently support widgets.\n",
       "</p>\n"
      ],
      "text/plain": [
       "interactive(children=(IntSlider(value=145, description='mu', max=160, min=130), IntSlider(value=10, description='scale', max=20, min=1), Output()), _dom_classes=('widget-interact',))"
      ]
     },
     "metadata": {},
     "output_type": "display_data"
    },
    {
     "data": {
      "text/plain": [
       "<function __main__.viz>"
      ]
     },
     "execution_count": 26,
     "metadata": {},
     "output_type": "execute_result"
    }
   ],
   "source": [
    "from ipywidgets import *\n",
    "\n",
    "def viz(mu, scale):\n",
    "    plt.hist(y, 30, normed=True)\n",
    "    gaussian = norm(mu, scale)\n",
    "    x = np.linspace(gaussian.ppf(.001), gaussian.ppf(.999), 100)\n",
    "    plt.plot(x, gaussian.pdf(x), 'r-', lw=5, alpha=0.6, label='norm pdf')\n",
    "    plt.title(\"$\\log\\mathcal{L}(\\mu, \\sigma) = $\" + str(np.round(log_likelihood(mu, scale, y), 2)))\n",
    "    plt.show()\n",
    "    \n",
    "interact(viz, mu=(130,160), scale=(1, 20))"
   ]
  },
  {
   "cell_type": "markdown",
   "metadata": {
    "colab_type": "text",
    "id": "5pt4A5gPV5Ud",
    "slideshow": {
     "slide_type": "slide"
    }
   },
   "source": [
    "## 5. Caso práctico de estimación por máxima verosimilitud: regresión lineal"
   ]
  },
  {
   "cell_type": "code",
   "execution_count": 28,
   "metadata": {
    "colab": {
     "autoexec": {
      "startup": false,
      "wait_interval": 0
     }
    },
    "colab_type": "code",
    "id": "vI-LfvT0V5Uf",
    "outputId": "f9172fe8-7ceb-4a32-bd8f-096a08da4c26",
    "slideshow": {
     "slide_type": "fragment"
    }
   },
   "outputs": [
    {
     "data": {
      "text/html": [
       "<div>\n",
       "<style scoped>\n",
       "    .dataframe tbody tr th:only-of-type {\n",
       "        vertical-align: middle;\n",
       "    }\n",
       "\n",
       "    .dataframe tbody tr th {\n",
       "        vertical-align: top;\n",
       "    }\n",
       "\n",
       "    .dataframe thead th {\n",
       "        text-align: right;\n",
       "    }\n",
       "</style>\n",
       "<table border=\"1\" class=\"dataframe\">\n",
       "  <thead>\n",
       "    <tr style=\"text-align: right;\">\n",
       "      <th></th>\n",
       "      <th>date</th>\n",
       "      <th>FCB</th>\n",
       "      <th>RMA</th>\n",
       "    </tr>\n",
       "  </thead>\n",
       "  <tbody>\n",
       "    <tr>\n",
       "      <th>0</th>\n",
       "      <td>2013-01-13</td>\n",
       "      <td>15</td>\n",
       "      <td>12</td>\n",
       "    </tr>\n",
       "    <tr>\n",
       "      <th>1</th>\n",
       "      <td>2013-01-20</td>\n",
       "      <td>15</td>\n",
       "      <td>15</td>\n",
       "    </tr>\n",
       "    <tr>\n",
       "      <th>2</th>\n",
       "      <td>2013-01-27</td>\n",
       "      <td>38</td>\n",
       "      <td>36</td>\n",
       "    </tr>\n",
       "    <tr>\n",
       "      <th>3</th>\n",
       "      <td>2013-02-03</td>\n",
       "      <td>13</td>\n",
       "      <td>13</td>\n",
       "    </tr>\n",
       "    <tr>\n",
       "      <th>4</th>\n",
       "      <td>2013-02-10</td>\n",
       "      <td>16</td>\n",
       "      <td>36</td>\n",
       "    </tr>\n",
       "  </tbody>\n",
       "</table>\n",
       "</div>"
      ],
      "text/plain": [
       "         date  FCB  RMA\n",
       "0  2013-01-13   15   12\n",
       "1  2013-01-20   15   15\n",
       "2  2013-01-27   38   36\n",
       "3  2013-02-03   13   13\n",
       "4  2013-02-10   16   36"
      ]
     },
     "execution_count": 28,
     "metadata": {},
     "output_type": "execute_result"
    }
   ],
   "source": [
    "import pandas as pd\n",
    "\n",
    "frm = pd.read_csv(\"../1-modeling/multiTimeline.csv\", header=1)\n",
    "frm.columns = ['date', 'FCB', 'RMA']\n",
    "frm.head()"
   ]
  },
  {
   "cell_type": "code",
   "execution_count": 29,
   "metadata": {
    "colab": {
     "autoexec": {
      "startup": false,
      "wait_interval": 0
     }
    },
    "colab_type": "code",
    "id": "HujVKmpiV5Um",
    "slideshow": {
     "slide_type": "subslide"
    }
   },
   "outputs": [],
   "source": [
    "x = frm['FCB'].values\n",
    "y = frm['RMA'].values"
   ]
  },
  {
   "cell_type": "code",
   "execution_count": 30,
   "metadata": {
    "colab": {
     "autoexec": {
      "startup": false,
      "wait_interval": 0
     }
    },
    "colab_type": "code",
    "id": "jn5BdxneV5Up",
    "outputId": "63414324-47a8-44d8-af0c-1b9fd906d2e6",
    "slideshow": {
     "slide_type": "fragment"
    }
   },
   "outputs": [
    {
     "data": {
      "text/plain": [
       "[<matplotlib.lines.Line2D at 0x1693094ae10>]"
      ]
     },
     "execution_count": 30,
     "metadata": {},
     "output_type": "execute_result"
    },
    {
     "data": {
      "image/png": "[encoded data removed]",
      "text/plain": [
       "<matplotlib.figure.Figure at 0x169309f2828>"
      ]
     },
     "metadata": {},
     "output_type": "display_data"
    }
   ],
   "source": [
    "plt.plot(x, y, '.')"
   ]
  },
  {
   "cell_type": "markdown",
   "metadata": {
    "colab_type": "text",
    "id": "pP9seArQV5Ux",
    "slideshow": {
     "slide_type": "subslide"
    }
   },
   "source": [
    "* Dados unos datos de pares $(x,y)$, podemos ver una regresión como una distribución Gaussiana donde la media de $y$ depende del valor de x. \n",
    "\n",
    "\\begin{equation}\n",
    "p(y|x,\\mu \\sigma) = \\mathcal{N}(y; m x, \\sigma) = \\frac{1}{\\sqrt{2\\pi}\\sigma}e^{\\frac{(y-mx)^2}{2\\sigma^2}}\n",
    "\\end{equation}\n",
    "\n",
    "* Podemos preguntarnos: cuáles son la $m$ y $\\sigma$ que mejor ajustan los datos? \n",
    "\n",
    " * Una posible solución: ¿cuáles son la $m$ y $\\sigma$ que dan lugar a la máxima verosimilitud? "
   ]
  },
  {
   "cell_type": "code",
   "execution_count": 31,
   "metadata": {
    "colab": {
     "autoexec": {
      "startup": false,
      "wait_interval": 0
     }
    },
    "colab_type": "code",
    "id": "jK-bQFzIV5Uy",
    "slideshow": {
     "slide_type": "subslide"
    }
   },
   "outputs": [],
   "source": [
    "m = 1\n",
    "sig = 10\n",
    "\n",
    "def log_likelihood_regression(slope, scale, data):\n",
    "    \n",
    "    log_likelihood = 0.0\n",
    "    for (x,y) in data:\n",
    "        log_likelihood += np.log(norm.pdf(y, slope*x, scale))\n",
    "        \n",
    "    return log_likelihood"
   ]
  },
  {
   "cell_type": "code",
   "execution_count": 32,
   "metadata": {
    "colab": {
     "autoexec": {
      "startup": false,
      "wait_interval": 0
     }
    },
    "colab_type": "code",
    "id": "P0ouAu_nV5U6",
    "outputId": "fcbb6242-edbb-476e-80bc-e05e9852ee0a",
    "slideshow": {
     "slide_type": "fragment"
    }
   },
   "outputs": [
    {
     "data": {
      "text/plain": [
       "-971.5029624378661"
      ]
     },
     "execution_count": 32,
     "metadata": {},
     "output_type": "execute_result"
    }
   ],
   "source": [
    "log_likelihood_regression(.92, 10, zip(x, y))"
   ]
  },
  {
   "cell_type": "code",
   "execution_count": 33,
   "metadata": {
    "colab": {
     "autoexec": {
      "startup": false,
      "wait_interval": 0
     }
    },
    "colab_type": "code",
    "id": "Ce29pcocV5U_",
    "outputId": "8b472aec-2753-49db-ff7d-cdc9ddae6dec",
    "slideshow": {
     "slide_type": "subslide"
    }
   },
   "outputs": [
    {
     "data": {
      "application/vnd.jupyter.widget-view+json": {
       "model_id": "e213e6e7189e42b69c4de8609bbf5381",
       "version_major": 2,
       "version_minor": 0
      },
      "text/html": [
       "<p>Failed to display Jupyter Widget of type <code>interactive</code>.</p>\n",
       "<p>\n",
       "  If you're reading this message in the Jupyter Notebook or JupyterLab Notebook, it may mean\n",
       "  that the widgets JavaScript is still loading. If this message persists, it\n",
       "  likely means that the widgets JavaScript library is either not installed or\n",
       "  not enabled. See the <a href=\"https://ipywidgets.readthedocs.io/en/stable/user_install.html\">Jupyter\n",
       "  Widgets Documentation</a> for setup instructions.\n",
       "</p>\n",
       "<p>\n",
       "  If you're reading this message in another frontend (for example, a static\n",
       "  rendering on GitHub or <a href=\"https://nbviewer.jupyter.org/\">NBViewer</a>),\n",
       "  it may mean that your frontend doesn't currently support widgets.\n",
       "</p>\n"
      ],
      "text/plain": [
       "interactive(children=(FloatSlider(value=1.05, description='m', max=2.0, min=0.1, step=0.05), IntSlider(value=10, description='sig', max=20, min=1), Output()), _dom_classes=('widget-interact',))"
      ]
     },
     "metadata": {},
     "output_type": "display_data"
    },
    {
     "data": {
      "text/plain": [
       "<function __main__.plot_regression>"
      ]
     },
     "execution_count": 33,
     "metadata": {},
     "output_type": "execute_result"
    }
   ],
   "source": [
    "def plot_regression(m, sig):\n",
    "\n",
    "    plt.figure(figsize=(8,4))\n",
    "    plt.plot(x,y, 'x', markersize=3)\n",
    "    plt.plot([x.min(), x.max()], [m*x.min(), m*x.max()])\n",
    "    plt.fill_between([x.min(), x.max()], \n",
    "                     [m*x.min()-sig, m*x.max()-sig],\n",
    "                     [m*x.min()+sig, m*x.max()+sig],\n",
    "                     alpha=0.3, \n",
    "                     facecolor='gray')\n",
    "    plt.title(log_likelihood_regression(.92, 10, zip(x, y)))\n",
    "\n",
    "interact(plot_regression, m=(0.1, 2, 0.05), sig=(1,20))"
   ]
  },
  {
   "cell_type": "markdown",
   "metadata": {
    "colab_type": "text",
    "id": "aJKvGl2bV5VI",
    "slideshow": {
     "slide_type": "slide"
    }
   },
   "source": [
    "## 6. Métodos para la estimación de máxima verosimilitud \n",
    "\n",
    "1.  Solución empírica: Escribimos un programa que explore el espacio de parámetros automáticamente (este programa se llama optimizador). \n",
    "2. Solución empírica: Aplicamos un optimizador existente. \n",
    "3. Solución analítica: Buscamos matemáticamente el punto óptimo de la función de verosimilitud. "
   ]
  },
  {
   "cell_type": "markdown",
   "metadata": {
    "colab_type": "text",
    "id": "IEy-8RHtV5VJ",
    "slideshow": {
     "slide_type": "subslide"
    }
   },
   "source": [
    "Empezamos por la opción 2: usando un optimizador existente. \n",
    "\n",
    "* La librería `scipy.optimize` contiene múltiples funciones para optimizar modelos. \n",
    "\n",
    " * Algunas de ellas se usan en los métodos `fit()` de `sklearn`! "
   ]
  },
  {
   "cell_type": "code",
   "execution_count": 34,
   "metadata": {
    "colab": {
     "autoexec": {
      "startup": false,
      "wait_interval": 0
     }
    },
    "colab_type": "code",
    "id": "VXMxS4fNV5VK",
    "slideshow": {
     "slide_type": "fragment"
    }
   },
   "outputs": [],
   "source": [
    "data = np.vstack((x, y)).T\n",
    "\n",
    "def my_objective(params):\n",
    "    \n",
    "    log_likelihood = 0.0\n",
    "    for row in data: \n",
    "        log_likelihood += np.log(norm.pdf(row[1], params[0]*row[0], params[1]))\n",
    "        \n",
    "    return -log_likelihood"
   ]
  },
  {
   "cell_type": "code",
   "execution_count": 35,
   "metadata": {
    "colab": {
     "autoexec": {
      "startup": false,
      "wait_interval": 0
     }
    },
    "colab_type": "code",
    "id": "h3724UgBV5VP",
    "outputId": "51e046f4-1b4f-4bf9-9186-03561284f32b",
    "slideshow": {
     "slide_type": "fragment"
    }
   },
   "outputs": [
    {
     "data": {
      "text/plain": [
       "978.4676664378665"
      ]
     },
     "execution_count": 35,
     "metadata": {},
     "output_type": "execute_result"
    }
   ],
   "source": [
    "my_objective([1, 10])"
   ]
  },
  {
   "cell_type": "code",
   "execution_count": 36,
   "metadata": {
    "colab": {
     "autoexec": {
      "startup": false,
      "wait_interval": 0
     }
    },
    "colab_type": "code",
    "id": "OP-YTyTAV5VV",
    "slideshow": {
     "slide_type": "fragment"
    }
   },
   "outputs": [],
   "source": [
    "from scipy.optimize import minimize\n",
    "\n",
    "solution = minimize(my_objective, [1, 10])"
   ]
  },
  {
   "cell_type": "code",
   "execution_count": 37,
   "metadata": {
    "colab": {
     "autoexec": {
      "startup": false,
      "wait_interval": 0
     }
    },
    "colab_type": "code",
    "id": "Io_qlA40V5Vm",
    "outputId": "0d27cdbd-9ee7-450e-d84d-ac684223887d",
    "slideshow": {
     "slide_type": "subslide"
    }
   },
   "outputs": [
    {
     "data": {
      "text/plain": [
       "      fun: 971.4939068098786\n",
       " hess_inv: array([[0.00071807, 0.00203215],\n",
       "       [0.00203215, 0.00608763]])\n",
       "      jac: array([-1.52587891e-05,  0.00000000e+00])\n",
       "  message: 'Desired error not necessarily achieved due to precision loss.'\n",
       "     nfev: 271\n",
       "      nit: 9\n",
       "     njev: 65\n",
       "   status: 2\n",
       "  success: False\n",
       "        x: array([ 0.91702984, 10.00675343])"
      ]
     },
     "execution_count": 37,
     "metadata": {},
     "output_type": "execute_result"
    }
   ],
   "source": [
    "solution"
   ]
  },
  {
   "cell_type": "code",
   "execution_count": 38,
   "metadata": {
    "colab": {
     "autoexec": {
      "startup": false,
      "wait_interval": 0
     }
    },
    "colab_type": "code",
    "id": "vzplQwYWV5Vt",
    "slideshow": {
     "slide_type": "subslide"
    }
   },
   "outputs": [],
   "source": [
    "def my_objective2(params):\n",
    "    \n",
    "    log_likelihood = 0.0\n",
    "    for row in data: \n",
    "        log_likelihood += np.log(norm.pdf(row[1], params[2] + params[0]*row[0], params[1]))\n",
    "        \n",
    "    return -log_likelihood"
   ]
  },
  {
   "cell_type": "code",
   "execution_count": 39,
   "metadata": {
    "colab": {
     "autoexec": {
      "startup": false,
      "wait_interval": 0
     }
    },
    "colab_type": "code",
    "id": "lKqYqufcV5Vx",
    "outputId": "2b86dc79-4635-40b3-d4e3-7085ebc9426c",
    "slideshow": {
     "slide_type": "fragment"
    }
   },
   "outputs": [
    {
     "data": {
      "text/plain": [
       "      fun: 946.9222905269627\n",
       " hess_inv: array([[ 4.24467441e-04,  8.96435290e-05, -1.61082369e-04],\n",
       "       [ 8.96435290e-05,  3.95072370e-05, -3.38863017e-04],\n",
       "       [-1.61082369e-04, -3.38863017e-04,  4.93775139e-03]])\n",
       "      jac: array([-4.57763672e-05,  2.28881836e-05,  7.62939453e-06])\n",
       "  message: 'Desired error not necessarily achieved due to precision loss.'\n",
       "     nfev: 301\n",
       "      nit: 13\n",
       "     njev: 59\n",
       "   status: 2\n",
       "  success: False\n",
       "        x: array([0.65908246, 9.10765824, 8.29669942])"
      ]
     },
     "execution_count": 39,
     "metadata": {},
     "output_type": "execute_result"
    }
   ],
   "source": [
    "minimize(my_objective2, [1, 10, 0])"
   ]
  },
  {
   "cell_type": "markdown",
   "metadata": {
    "colab_type": "text",
    "id": "Os6mRoa4V5V7",
    "slideshow": {
     "slide_type": "subslide"
    }
   },
   "source": [
    "(Explicar en pizarra máxima verosimilitud)"
   ]
  },
  {
   "cell_type": "code",
   "execution_count": 40,
   "metadata": {
    "colab": {
     "autoexec": {
      "startup": false,
      "wait_interval": 0
     }
    },
    "colab_type": "code",
    "id": "aCfNwqA7V5V9",
    "outputId": "625c3bdd-f1fa-4682-a39e-a30ef7be0190",
    "slideshow": {
     "slide_type": "fragment"
    }
   },
   "outputs": [
    {
     "data": {
      "text/plain": [
       "0.9170298564187105"
      ]
     },
     "execution_count": 40,
     "metadata": {},
     "output_type": "execute_result"
    }
   ],
   "source": [
    "sxy = np.sum(x*y)\n",
    "sx2 = np.sum(np.square(x))\n",
    "\n",
    "sxy / sx2"
   ]
  }
 ],
 "metadata": {
  "colab": {
   "default_view": {},
   "name": "Máxima verosimilitud.ipynb",
   "provenance": [],
   "version": "0.3.2",
   "views": {}
  },
  "kernelspec": {
   "display_name": "Python 3",
   "language": "python",
   "name": "python3"
  },
  "language_info": {
   "codemirror_mode": {
    "name": "ipython",
    "version": 3
   },
   "file_extension": ".py",
   "mimetype": "text/x-python",
   "name": "python",
   "nbconvert_exporter": "python",
   "pygments_lexer": "ipython3",
   "version": "3.7.0"
  }
 },
 "nbformat": 4,
 "nbformat_minor": 1
}
