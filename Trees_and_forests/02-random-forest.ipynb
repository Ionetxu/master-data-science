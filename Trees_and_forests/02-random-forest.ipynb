{
 "cells": [
  {
   "cell_type": "markdown",
   "metadata": {},
   "source": [
    "# Random forest"
   ]
  },
  {
   "cell_type": "code",
   "execution_count": 1,
   "metadata": {},
   "outputs": [],
   "source": [
    "import warnings\n",
    "warnings.filterwarnings(\"ignore\")\n",
    "\n",
    "import matplotlib.pyplot as plt\n",
    "import matplotlib\n",
    "import numpy as np\n",
    "import pandas as pd\n",
    "from sklearn import datasets\n",
    "from sklearn.model_selection import train_test_split\n",
    "from sklearn.metrics import accuracy_score, precision_score, recall_score, f1_score, roc_auc_score"
   ]
  },
  {
   "cell_type": "code",
   "execution_count": 2,
   "metadata": {},
   "outputs": [],
   "source": [
    "matplotlib.rcParams['figure.figsize'] = [20, 10]\n",
    "matplotlib.rcParams['font.size'] = 20"
   ]
  },
  {
   "cell_type": "code",
   "execution_count": 3,
   "metadata": {},
   "outputs": [],
   "source": [
    "def metrics(y, predicted, scores):\n",
    "    return {\n",
    "        'accuracy': accuracy_score(y, predicted),\n",
    "        'precision': precision_score(y, predicted),\n",
    "        'recall': recall_score(y, predicted),\n",
    "        'f1-score': f1_score(y, predicted), \n",
    "        'auc': roc_auc_score(y, scores)}"
   ]
  },
  {
   "cell_type": "code",
   "execution_count": 4,
   "metadata": {},
   "outputs": [],
   "source": [
    "from sklearn.datasets import load_breast_cancer\n",
    "data = load_breast_cancer()\n",
    "target_classes = list(reversed(data.target_names))\n",
    "\n",
    "y = data.target == 0 # if zero then we detect malignant tumor.\n",
    "X = data.data[:, [0]]\n",
    "\n",
    "X_train, X_test, y_train, y_test = train_test_split(X, y, test_size=0.3, random_state=666)"
   ]
  },
  {
   "cell_type": "code",
   "execution_count": 15,
   "metadata": {},
   "outputs": [
    {
     "data": {
      "text/plain": [
       "{'accuracy': 0.9385964912280702,\n",
       " 'precision': 0.8979591836734694,\n",
       " 'recall': 0.9565217391304348,\n",
       " 'f1-score': 0.9263157894736843,\n",
       " 'auc': 0.9867327365728901}"
      ]
     },
     "execution_count": 15,
     "metadata": {},
     "output_type": "execute_result"
    }
   ],
   "source": [
    "from sklearn.metrics import accuracy_score, precision_score, recall_score, f1_score\n",
    "from sklearn.ensemble import RandomForestClassifier\n",
    "\n",
    "clf = RandomForestClassifier(criterion=\"entropy\", n_estimators=100, max_depth= 1000, random_state=666)\n",
    "clf = clf.fit(X_train, y_train)\n",
    "y_test_hat = clf.predict(X_test)\n",
    "y_test_scores = clf.predict_proba(X_test)[:, 1]\n",
    "\n",
    "metrics(y_test, y_test_hat, y_test_scores)"
   ]
  },
  {
   "cell_type": "code",
   "execution_count": null,
   "metadata": {},
   "outputs": [],
   "source": [
    "* Capitulo 15, <https://web.stanford.edu/~hastie/ElemStatLearn/printings/ESLII_print12.pdf>"
   ]
  }
 ],
 "metadata": {
  "kernelspec": {
   "display_name": "Python 3",
   "language": "python",
   "name": "python3"
  },
  "language_info": {
   "codemirror_mode": {
    "name": "ipython",
    "version": 3
   },
   "file_extension": ".py",
   "mimetype": "text/x-python",
   "name": "python",
   "nbconvert_exporter": "python",
   "pygments_lexer": "ipython3",
   "version": "3.7.2"
  }
 },
 "nbformat": 4,
 "nbformat_minor": 2
}
