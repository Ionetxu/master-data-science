{
 "cells": [
  {
   "cell_type": "markdown",
   "metadata": {},
   "source": [
    "## 4. Otros modelos estadísticos y de Machine Learning. Visión general\n",
    "\n",
    "### Modelización estadística\n",
    "\n",
    "Ejemplo de modelización estadística para introducir el ejemplo de corte óptimo.\n",
    "\n",
    "Usamos el [dataset de icebergs de Kaggle](https://www.kaggle.com/c/statoil-iceberg-classifier-challenge). Según las normas, está permitido ser usado para propósitos educativos.\n",
    "\n",
    "El dataset contiene 75x75 lecturas de un sensor  y el objetivo del reto de Kaggle es determinar si la lectura corresponde a un iceberg o de un barco. \n",
    "\n",
    "Para problemas complejos como éste, suele necesitarse más de un modelo, por ejemplo, un primer modelo que intenta descartar la muestra basada en algún método sencillo, y después otro modelo más costoso que actúa si el método sencillo no puede descartarlo. \n",
    "\n",
    "Vamos a ver un ejemplo de modelo estadístico para filtrado. \n",
    "\n",
    "A. Cargar el dataset. "
   ]
  },
  {
   "cell_type": "code",
   "execution_count": 1,
   "metadata": {},
   "outputs": [],
   "source": [
    "import json\n",
    "\n",
    "iceberg_file = json.load(open('../train.json'))"
   ]
  },
  {
   "cell_type": "markdown",
   "metadata": {},
   "source": [
    "B. Explorar para extraer algún atributo informativo"
   ]
  },
  {
   "cell_type": "code",
   "execution_count": 2,
   "metadata": {},
   "outputs": [],
   "source": [
    "import numpy as np\n",
    "\n",
    "sband1 = np.array([np.max(x['band_1']) for x in iceberg_file])\n",
    "sband2 = np.array([np.max(x['band_2']) for x in iceberg_file])\n",
    "#angles = np.asarray(np.array([x['inc_angle'] for x in iceberg_file]), 'float')\n",
    "y = np.array([x['is_iceberg'] for x in iceberg_file])"
   ]
  },
  {
   "cell_type": "code",
   "execution_count": 3,
   "metadata": {},
   "outputs": [
    {
     "data": {
      "text/plain": [
       "(4.674684594594595, -1.4874424422310757)"
      ]
     },
     "execution_count": 3,
     "metadata": {},
     "output_type": "execute_result"
    }
   ],
   "source": [
    "np.mean(sband1[y==0]), np.mean(sband1[y==1]) "
   ]
  },
  {
   "cell_type": "code",
   "execution_count": 4,
   "metadata": {},
   "outputs": [
    {
     "data": {
      "text/plain": [
       "(-6.74837080493537, -13.80762496945551)"
      ]
     },
     "execution_count": 4,
     "metadata": {},
     "output_type": "execute_result"
    }
   ],
   "source": [
    "np.mean(sband2[y==0]), np.mean(sband2[y==1]) "
   ]
  },
  {
   "cell_type": "markdown",
   "metadata": {},
   "source": [
    "C. Visualizar"
   ]
  },
  {
   "cell_type": "code",
   "execution_count": 6,
   "metadata": {},
   "outputs": [
    {
     "data": {
      "image/png": "[encoded data removed]",
      "text/plain": [
       "<matplotlib.figure.Figure at 0x7f1bce5091d0>"
      ]
     },
     "metadata": {},
     "output_type": "display_data"
    }
   ],
   "source": [
    "%matplotlib inline\n",
    "import matplotlib.pyplot as plt\n",
    "\n",
    "plt.hist(sband1[y==0], 20, color='black')\n",
    "\n",
    "plt.hist(sband1[y==1], 20, alpha=0.9)\n",
    "plt.show()"
   ]
  },
  {
   "cell_type": "markdown",
   "metadata": {},
   "source": [
    "Vemos cómo es posible filtrar fácilmente muchas muestras que serían barco. Por ejemplo, para un valor del atributo superior a 10, prácticamente todo son barcos. \n",
    "\n",
    "Midamos, para cada valor $x$ del atributo , cuál sería la proporción de barcos por encima de $x$: "
   ]
  },
  {
   "cell_type": "code",
   "execution_count": 7,
   "metadata": {},
   "outputs": [
    {
     "data": {
      "text/plain": [
       "Text(0,0.5,'Probability of ship')"
      ]
     },
     "execution_count": 7,
     "metadata": {},
     "output_type": "execute_result"
    },
    {
     "data": {
      "image/png": "[encoded data removed]",
      "text/plain": [
       "<matplotlib.figure.Figure at 0x7f1bca00a8d0>"
      ]
     },
     "metadata": {},
     "output_type": "display_data"
    }
   ],
   "source": [
    "n0 = np.empty_like(sband1)\n",
    "n1 = np.empty_like(sband2)\n",
    "\n",
    "values_ship    = sband1[y==0]\n",
    "values_iceberg = sband1[y==1]\n",
    "\n",
    "nships   = np.sum(y==0)\n",
    "niceberg = np.sum(y==1) \n",
    "\n",
    "values_sorted = np.sort(sband1)\n",
    "\n",
    "for i in range(values_sorted.shape[0]):\n",
    "    n0[i] = np.sum(values_ship    > values_sorted[i])\n",
    "    n1[i] = np.sum(values_iceberg > values_sorted[i])\n",
    "    \n",
    "plt.plot(values_sorted, 1-(n1/(n0+.001)))\n",
    "plt.ylabel('Probability of ship')"
   ]
  },
  {
   "cell_type": "markdown",
   "metadata": {},
   "source": [
    "Vemos que \n",
    "\n",
    "* A partir de un cierto valor, el 100% de las muestras son de barco. (Ojo! Puede ser que hayamos visto demasiado pocos icebergs en el training set. Recordemos lo que dijimos que los modelos mejoran con más datos). \n",
    "\n",
    "* Tenemos una palanca que nos permite tomar decisiones. Por ejemplo: ¿cuál es el valor umbral que hay que fijar si podemos admitir equivocarnos en un 5% de los icebergs?\n",
    "\n",
    "* La selección del valor umbral requiere realizar un trade-off entre coste y calidad. \n",
    "\n",
    "Los icebergs que ignoraríamos por filtrar por cierto un valor umbral, se llaman \"falsos negativos\" (explicar en clase)."
   ]
  },
  {
   "cell_type": "markdown",
   "metadata": {},
   "source": [
    "**Recordatorio**. ¿Cuál es el modelo aquí? (Pista: Recordemos que el modelo es toda la información necesaria para tomar la decisión). \n",
    "\n",
    "* Ejercicio: Bajar el test y comprobar. "
   ]
  },
  {
   "cell_type": "markdown",
   "metadata": {},
   "source": [
    "## Paréntesis: Modelos dentro del proceso de Data Science\n",
    "\n",
    "En muy pequeña escala, esto es una ilustración simplificada del proceso de data science. Ya que hemos hecho los siguientes pasos: \n",
    "\n",
    "\n",
    "* Leer los datos de una fuente (json)\n",
    "* Ponerlos en el formato de nuestra aplicación (arrays de numpy). \n",
    "* Convertir los datos en variables (en este caso ha sido el max de la señal 1). Nota: Hemos explorado varias alternativas. También nos hemos dejado alternativas sin explorar al encontrar una solución \"good enough\". \n",
    "* Se modela el atributo con un \"lookup\" de probabilidades. \n",
    "\n",
    "Y esto sólo es para descartar una parte! Luego para resolver el problema completo, habría que diseñar la segunda fase del proceso. \n",
    "\n",
    "La modelización en data science es un proceso no lineal, donde muchas veces se llegan a resultados en los que hay que ir atrás y cambiar algo en el proceso. Actúa de manera similar al método científico. Este [curso de Udacity](https://eu.udacity.com/course/model-building-and-validation--ud919) ilustra con ejemplos el proceso de data science. "
   ]
  },
  {
   "cell_type": "markdown",
   "metadata": {},
   "source": [
    "# Caso de uso de Machine Learning\n",
    "\n",
    "Vamos a ver un caso de uso de machine learning sencillo también, para provcar que salgan los conceptos que se necesitarán en las siguientes clases. \n",
    "\n",
    "De momento hablaremos de \n",
    "\n",
    "* Métodos no supervisados / supervisados (dependiendo de si se modelan muestras $x$ o pares de muestra-etiqueta ($x$, $y$).\n",
    "* Representación vectorial de entrada (cuando $x=[x_1, \\ldots, x_D]$, que es el caso más habitual). \n",
    "* Clasificación vs. regresión (dependiendo de si $y$ es un valor categórico o contínuo).\n",
    "* Clasificación binaria vs. multiclase (dependiendo de si el número de categorías de $y$ es 2 o mayor). \n",
    "* Clasificadores discriminativos (cuando lo que intentan es buscar superficies de separación entre las clases). \n",
    "* Clasificadores estadísticos (cuando modelizan la probablidad de que una muestra pertenezca a una clase). \n",
    "* Clasificadores basados en árboles de reglas (cuando modelizan la clasificación como una secuencia óptima de reglas). \n",
    "\n",
    "\n",
    "Todo esto se ve en clases siguientes en mucho detalle. De momento, un ejemplo de clasificación binaria en sklearn para empezar a tocar con las manos alguna de estas cosas. \n",
    "\n",
    "A. Construimos representación"
   ]
  },
  {
   "cell_type": "code",
   "execution_count": 92,
   "metadata": {},
   "outputs": [],
   "source": [
    "# Construimos representación\n",
    "x_train = np.array([np.array(x['band_1']) for x in iceberg_file])"
   ]
  },
  {
   "cell_type": "markdown",
   "metadata": {},
   "source": [
    "Visualizamos una muestra"
   ]
  },
  {
   "cell_type": "code",
   "execution_count": 131,
   "metadata": {},
   "outputs": [
    {
     "data": {
      "text/plain": [
       "Text(0.5,1,'0')"
      ]
     },
     "execution_count": 131,
     "metadata": {},
     "output_type": "execute_result"
    },
    {
     "data": {
      "image/png": "[encoded data removed]",
      "text/plain": [
       "<matplotlib.figure.Figure at 0x7f3b1e8a3630>"
      ]
     },
     "metadata": {},
     "output_type": "display_data"
    }
   ],
   "source": [
    "plt.imshow(x_train[0].reshape(75,75))\n",
    "plt.title(y[0])"
   ]
  },
  {
   "cell_type": "code",
   "execution_count": null,
   "metadata": {},
   "outputs": [],
   "source": []
  },
  {
   "cell_type": "markdown",
   "metadata": {},
   "source": [
    "Ajustamos un clasificador de caja negra. (Por ejemplo: regresión logística, que es un clasificador estadístico). "
   ]
  },
  {
   "cell_type": "code",
   "execution_count": 148,
   "metadata": {},
   "outputs": [
    {
     "data": {
      "text/plain": [
       "LogisticRegression(C=1.0, class_weight=None, dual=False, fit_intercept=True,\n",
       "          intercept_scaling=1, max_iter=100, multi_class='ovr', n_jobs=1,\n",
       "          penalty='l2', random_state=None, solver='liblinear', tol=0.0001,\n",
       "          verbose=0, warm_start=False)"
      ]
     },
     "execution_count": 148,
     "metadata": {},
     "output_type": "execute_result"
    }
   ],
   "source": [
    "from sklearn.linear_model import LogisticRegression\n",
    "\n",
    "lr = LogisticRegression()\n",
    "\n",
    "lr.fit(x_train[:1000], y[:1000])"
   ]
  },
  {
   "cell_type": "markdown",
   "metadata": {},
   "source": [
    "Tasa de acierto del clasificador en el conjunto de training"
   ]
  },
  {
   "cell_type": "code",
   "execution_count": 149,
   "metadata": {},
   "outputs": [
    {
     "data": {
      "text/plain": [
       "1.0"
      ]
     },
     "execution_count": 149,
     "metadata": {},
     "output_type": "execute_result"
    }
   ],
   "source": [
    "np.mean(lr.predict(x_train[:1000]) == y[:1000])"
   ]
  },
  {
   "cell_type": "markdown",
   "metadata": {},
   "source": [
    "Tasa de acierto en el conjunto de test. "
   ]
  },
  {
   "cell_type": "code",
   "execution_count": 150,
   "metadata": {},
   "outputs": [
    {
     "data": {
      "text/plain": [
       "0.6324503311258278"
      ]
     },
     "execution_count": 150,
     "metadata": {},
     "output_type": "execute_result"
    }
   ],
   "source": [
    "np.mean(lr.predict(x_train[1000:]) == y[1000:])"
   ]
  },
  {
   "cell_type": "markdown",
   "metadata": {},
   "source": [
    "Este fenómeno está relacionado con el overfitting que hemos mencionado antes.\n",
    "\n",
    "Ahora un ejemplo de clasificación de texto. Mejoramos un poco lo que hicimos antes, ya que en lugar de contar palabras vamos a ver (muy rápido) cómo montar una representación vectorial del documento y aplicarle un clasificador. \n",
    "\n",
    "La mejor representación siempre depende del problema. Una representación común para texto es lo que se llama one-hot-encoding, que explicaremos en clase con este ejemplo siguiente. Iremos copiando estos bloques en el notebook de clasificación de lenguaje. \n"
   ]
  },
  {
   "cell_type": "code",
   "execution_count": 9,
   "metadata": {},
   "outputs": [],
   "source": [
    "def representation(sentence, dict_es, dict_en):\n",
    "        \n",
    "    n_es = w_es.shape[0]\n",
    "    n_en = w_en.shape[0]\n",
    "    \n",
    "    x = np.empty(shape=(n_en + n_es,))\n",
    "    \n",
    "    words = sentence.split(\" \")\n",
    "        \n",
    "    for i in range(n_es):\n",
    "        x[i] = w_es[i] in words\n",
    "        \n",
    "    for i in range(n_en):\n",
    "        x[i+n_es] = w_en[i] in words\n",
    "        \n",
    "    \n",
    "    return x"
   ]
  },
  {
   "cell_type": "code",
   "execution_count": null,
   "metadata": {},
   "outputs": [],
   "source": [
    "representation(\"esta es una frase en el idioa español\", w_es, w_en)"
   ]
  },
  {
   "cell_type": "code",
   "execution_count": 194,
   "metadata": {},
   "outputs": [],
   "source": [
    "def collect_representation(lang):\n",
    "\n",
    "    # lang is \"es\" or \"en\"\n",
    "    \n",
    "    all_repr = []\n",
    "    \n",
    "    PREFIX = \"data/Cross-Language-Dataset/dataset/documents/Europarl/\"\n",
    "    words = dict()\n",
    "    \n",
    "    # Collect words into dict\n",
    "    filelist = \"data/lang/training-\" + lang + \".txt\"\n",
    "    with open(filelist) as f:\n",
    "        \n",
    "        lines = f.readlines()\n",
    "        for l in lines:\n",
    "            realfile = PREFIX + lang + \"/\" + l.replace(\"\\n\", \"\")\n",
    "            str_ = file2str(realfile)\n",
    "            all_repr.append(representation(str_, w_es, w_en))\n",
    "            \n",
    "    return np.array(all_repr)"
   ]
  },
  {
   "cell_type": "code",
   "execution_count": 195,
   "metadata": {},
   "outputs": [],
   "source": [
    "x_es = collect_representation(\"es\")\n",
    "x_en = collect_representation(\"en\")"
   ]
  },
  {
   "cell_type": "code",
   "execution_count": 199,
   "metadata": {},
   "outputs": [
    {
     "data": {
      "image/png": "[encoded data removed]",
      "text/plain": [
       "<matplotlib.figure.Figure at 0x7f3b1ce7f6a0>"
      ]
     },
     "metadata": {},
     "output_type": "display_data"
    },
    {
     "data": {
      "image/png": "[encoded data removed]",
      "text/plain": [
       "<matplotlib.figure.Figure at 0x7f3b1e77ee80>"
      ]
     },
     "metadata": {},
     "output_type": "display_data"
    }
   ],
   "source": [
    "plt.imshow(x_es)\n",
    "plt.show()\n",
    "plt.imshow(x_en)\n",
    "plt.show()"
   ]
  },
  {
   "cell_type": "markdown",
   "metadata": {},
   "source": [
    "Ver el patrón!!"
   ]
  },
  {
   "cell_type": "code",
   "execution_count": 217,
   "metadata": {},
   "outputs": [
    {
     "data": {
      "text/plain": [
       "LogisticRegression(C=1.0, class_weight=None, dual=False, fit_intercept=True,\n",
       "          intercept_scaling=1, max_iter=100, multi_class='ovr', n_jobs=1,\n",
       "          penalty='l2', random_state=None, solver='liblinear', tol=0.0001,\n",
       "          verbose=0, warm_start=False)"
      ]
     },
     "execution_count": 217,
     "metadata": {},
     "output_type": "execute_result"
    }
   ],
   "source": [
    " lr = LogisticRegression()\n",
    "\n",
    "x_train = np.vstack((x_es[:50], x_en[:50]))\n",
    "y_train = np.array(50*[0] +50*[1])\n",
    "\n",
    "lr.fit(x_train, y_train)"
   ]
  },
  {
   "cell_type": "code",
   "execution_count": 219,
   "metadata": {},
   "outputs": [
    {
     "data": {
      "text/plain": [
       "array([0, 0, 0, 0, 0, 0, 0, 0, 0, 0, 0, 0, 0, 0, 0, 0, 0, 0, 0, 0, 0, 0,\n",
       "       0, 0, 0, 0, 0, 0, 0, 0, 0, 0, 0, 0, 0, 0, 0, 0, 0, 0, 0, 0, 0, 0,\n",
       "       0, 0, 0, 0, 0, 0])"
      ]
     },
     "execution_count": 219,
     "metadata": {},
     "output_type": "execute_result"
    }
   ],
   "source": [
    "lr.predict(x_es[50:])"
   ]
  },
  {
   "cell_type": "code",
   "execution_count": 220,
   "metadata": {},
   "outputs": [
    {
     "data": {
      "text/plain": [
       "array([1, 1, 1, 1, 1, 1, 1, 1, 1, 1, 1, 1, 1, 1, 1, 1, 1, 1, 1, 1, 1, 1,\n",
       "       1, 1, 1, 1, 1, 1, 1, 1, 1, 1, 1, 1, 1, 1, 1, 1, 1, 1, 1, 1, 1, 1,\n",
       "       1, 1, 1, 1, 1, 1])"
      ]
     },
     "execution_count": 220,
     "metadata": {},
     "output_type": "execute_result"
    }
   ],
   "source": [
    "lr.predict(x_en[50:])"
   ]
  },
  {
   "cell_type": "code",
   "execution_count": 231,
   "metadata": {},
   "outputs": [
    {
     "data": {
      "text/plain": [
       "array([1])"
      ]
     },
     "execution_count": 231,
     "metadata": {},
     "output_type": "execute_result"
    }
   ],
   "source": [
    "lr.predict(representation(\"Decide a ver\", w_es, w_en)[None,:])"
   ]
  },
  {
   "cell_type": "code",
   "execution_count": 237,
   "metadata": {},
   "outputs": [
    {
     "data": {
      "text/plain": [
       "[<matplotlib.lines.Line2D at 0x7f3b1e1e4f98>]"
      ]
     },
     "execution_count": 237,
     "metadata": {},
     "output_type": "execute_result"
    },
    {
     "data": {
      "image/png": "[encoded data removed]",
      "text/plain": [
       "<matplotlib.figure.Figure at 0x7f3b1e1e4dd8>"
      ]
     },
     "metadata": {},
     "output_type": "display_data"
    }
   ],
   "source": [
    "from sklearn.decomposition.pca import PCA\n",
    "\n",
    "pca = PCA(n_components=2)\n",
    "\n",
    "projected = pca.fit_transform(x_train)\n",
    "\n",
    "plt.plot(projected[:50,0], projected[:50,1], '.')\n",
    "plt.plot(projected[50:,0], projected[50:,1], '.')"
   ]
  },
  {
   "cell_type": "code",
   "execution_count": 239,
   "metadata": {},
   "outputs": [
    {
     "data": {
      "text/plain": [
       "(array([53]),)"
      ]
     },
     "execution_count": 239,
     "metadata": {},
     "output_type": "execute_result"
    }
   ],
   "source": [
    "np.where(projected[:,1] > 4)"
   ]
  }
 ],
 "metadata": {
  "kernelspec": {
   "display_name": "Python 3",
   "language": "python",
   "name": "python3"
  },
  "language_info": {
   "codemirror_mode": {
    "name": "ipython",
    "version": 3
   },
   "file_extension": ".py",
   "mimetype": "text/x-python",
   "name": "python",
   "nbconvert_exporter": "python",
   "pygments_lexer": "ipython3",
   "version": "3.7.0"
  }
 },
 "nbformat": 4,
 "nbformat_minor": 2
}
